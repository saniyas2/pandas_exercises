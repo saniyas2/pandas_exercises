{
 "cells": [
  {
   "cell_type": "markdown",
   "metadata": {},
   "source": [
    "# Exercise 1"
   ]
  },
  {
   "cell_type": "markdown",
   "metadata": {},
   "source": [
    "### Step 1. Go to https://www.kaggle.com/openfoodfacts/world-food-facts/data"
   ]
  },
  {
   "cell_type": "markdown",
   "metadata": {},
   "source": [
    "### Step 2. Download the dataset to your computer and unzip it."
   ]
  },
  {
   "cell_type": "markdown",
   "metadata": {},
   "source": [
    "### Step 3. Use the tsv file and assign it to a dataframe called food"
   ]
  },
  {
   "cell_type": "code",
   "execution_count": 1,
   "metadata": {},
   "outputs": [],
   "source": [
    "import pandas as pd"
   ]
  },
  {
   "cell_type": "code",
   "execution_count": null,
   "metadata": {
    "collapsed": true
   },
   "outputs": [
    {
     "name": "stderr",
     "output_type": "stream",
     "text": [
      "/var/folders/_q/8np3rhxj2js87l542z5hksgm0000gp/T/ipykernel_24749/1270223272.py:1: DtypeWarning: Columns (0,3,5,19,20,24,25,26,27,28,36,37,38,39,48) have mixed types. Specify dtype option on import or set low_memory=False.\n",
      "  food = pd.read_csv(\"/Users/student/Desktop/Pandas/pandas_exercises/01_Getting_&_Knowing_Your_Data/World Food Facts/en.openfoodfacts.org.products.tsv\", sep= '\\t')\n"
     ]
    },
    {
     "name": "stdout",
     "output_type": "stream",
     "text": [
      "    code                                                url  \\\n",
      "0   3087  http://world-en.openfoodfacts.org/product/0000...   \n",
      "1   4530  http://world-en.openfoodfacts.org/product/0000...   \n",
      "2   4559  http://world-en.openfoodfacts.org/product/0000...   \n",
      "3  16087  http://world-en.openfoodfacts.org/product/0000...   \n",
      "4  16094  http://world-en.openfoodfacts.org/product/0000...   \n",
      "\n",
      "                      creator   created_t      created_datetime  \\\n",
      "0  openfoodfacts-contributors  1474103866  2016-09-17T09:17:46Z   \n",
      "1             usda-ndb-import  1489069957  2017-03-09T14:32:37Z   \n",
      "2             usda-ndb-import  1489069957  2017-03-09T14:32:37Z   \n",
      "3             usda-ndb-import  1489055731  2017-03-09T10:35:31Z   \n",
      "4             usda-ndb-import  1489055653  2017-03-09T10:34:13Z   \n",
      "\n",
      "  last_modified_t last_modified_datetime                    product_name  \\\n",
      "0      1474103893   2016-09-17T09:18:13Z              Farine de blé noir   \n",
      "1      1489069957   2017-03-09T14:32:37Z  Banana Chips Sweetened (Whole)   \n",
      "2      1489069957   2017-03-09T14:32:37Z                         Peanuts   \n",
      "3      1489055731   2017-03-09T10:35:31Z          Organic Salted Nut Mix   \n",
      "4      1489055653   2017-03-09T10:34:13Z                 Organic Polenta   \n",
      "\n",
      "  generic_name quantity  ... fruits-vegetables-nuts_100g  \\\n",
      "0          NaN      1kg  ...                         NaN   \n",
      "1          NaN      NaN  ...                         NaN   \n",
      "2          NaN      NaN  ...                         NaN   \n",
      "3          NaN      NaN  ...                         NaN   \n",
      "4          NaN      NaN  ...                         NaN   \n",
      "\n",
      "  fruits-vegetables-nuts-estimate_100g collagen-meat-protein-ratio_100g  \\\n",
      "0                                  NaN                              NaN   \n",
      "1                                  NaN                              NaN   \n",
      "2                                  NaN                              NaN   \n",
      "3                                  NaN                              NaN   \n",
      "4                                  NaN                              NaN   \n",
      "\n",
      "  cocoa_100g chlorophyl_100g carbon-footprint_100g nutrition-score-fr_100g  \\\n",
      "0        NaN             NaN                   NaN                     NaN   \n",
      "1        NaN             NaN                   NaN                    14.0   \n",
      "2        NaN             NaN                   NaN                     0.0   \n",
      "3        NaN             NaN                   NaN                    12.0   \n",
      "4        NaN             NaN                   NaN                     NaN   \n",
      "\n",
      "  nutrition-score-uk_100g glycemic-index_100g water-hardness_100g  \n",
      "0                     NaN                 NaN                 NaN  \n",
      "1                    14.0                 NaN                 NaN  \n",
      "2                     0.0                 NaN                 NaN  \n",
      "3                    12.0                 NaN                 NaN  \n",
      "4                     NaN                 NaN                 NaN  \n",
      "\n",
      "[5 rows x 163 columns]\n"
     ]
    }
   ],
   "source": [
    "food = pd.read_csv(\"/Users/student/Desktop/Pandas/pandas_exercises/01_Getting_&_Knowing_Your_Data/World Food Facts/en.openfoodfacts.org.products.tsv\", sep= '\\t')"
   ]
  },
  {
   "cell_type": "markdown",
   "metadata": {},
   "source": [
    "### Step 4. See the first 5 entries"
   ]
  },
  {
   "cell_type": "code",
   "execution_count": 3,
   "metadata": {
    "collapsed": true
   },
   "outputs": [
    {
     "name": "stdout",
     "output_type": "stream",
     "text": [
      "    code                                                                                         url                     creator   created_t      created_datetime last_modified_t last_modified_datetime                    product_name generic_name quantity packaging packaging_tags           brands      brands_tags categories categories_tags categories_en origins origins_tags manufacturing_places manufacturing_places_tags labels labels_tags labels_en emb_codes emb_codes_tags first_packaging_code_geo cities cities_tags purchase_places stores countries    countries_tags   countries_en                                                                                                                                                        ingredients_text allergens allergens_en traces traces_tags traces_en     serving_size  no_nutriments  additives_n                                                                                                                                                                                                                                                                                                                                                                                                                                                                                                                                                                                                                                                                               additives additives_tags additives_en  ingredients_from_palm_oil_n  ingredients_from_palm_oil ingredients_from_palm_oil_tags  ingredients_that_may_be_from_palm_oil_n  ingredients_that_may_be_from_palm_oil ingredients_that_may_be_from_palm_oil_tags  nutrition_grade_uk nutrition_grade_fr pnns_groups_1 pnns_groups_2                                                                                                                                                                                                                                                                                                                                                           states                                                                                                                                                                                                                                                                                                                                           states_tags                                                                                                                                                                                                                                                                                                         states_en main_category main_category_en image_url image_small_url  energy_100g  energy-from-fat_100g  fat_100g  saturated-fat_100g  -butyric-acid_100g  -caproic-acid_100g  -caprylic-acid_100g  -capric-acid_100g  -lauric-acid_100g  -myristic-acid_100g  -palmitic-acid_100g  -stearic-acid_100g  -arachidic-acid_100g  -behenic-acid_100g  -lignoceric-acid_100g  -cerotic-acid_100g  -montanic-acid_100g  -melissic-acid_100g  monounsaturated-fat_100g  polyunsaturated-fat_100g  omega-3-fat_100g  -alpha-linolenic-acid_100g  -eicosapentaenoic-acid_100g  -docosahexaenoic-acid_100g  omega-6-fat_100g  -linoleic-acid_100g  -arachidonic-acid_100g  -gamma-linolenic-acid_100g  -dihomo-gamma-linolenic-acid_100g  omega-9-fat_100g  -oleic-acid_100g  -elaidic-acid_100g  -gondoic-acid_100g  -mead-acid_100g  -erucic-acid_100g  -nervonic-acid_100g  trans-fat_100g  cholesterol_100g  carbohydrates_100g  sugars_100g  -sucrose_100g  -glucose_100g  -fructose_100g  -lactose_100g  -maltose_100g  -maltodextrins_100g  starch_100g  polyols_100g  fiber_100g  proteins_100g  casein_100g  serum-proteins_100g  nucleotides_100g  salt_100g  sodium_100g  alcohol_100g  vitamin-a_100g  beta-carotene_100g  vitamin-d_100g  vitamin-e_100g  vitamin-k_100g  vitamin-c_100g  vitamin-b1_100g  vitamin-b2_100g  vitamin-pp_100g  vitamin-b6_100g  vitamin-b9_100g  folates_100g  vitamin-b12_100g  biotin_100g  pantothenic-acid_100g  silica_100g  bicarbonate_100g  potassium_100g  chloride_100g  calcium_100g  phosphorus_100g  iron_100g  magnesium_100g  zinc_100g  copper_100g  manganese_100g  fluoride_100g  selenium_100g  chromium_100g  molybdenum_100g  iodine_100g  caffeine_100g  taurine_100g  ph_100g  fruits-vegetables-nuts_100g  fruits-vegetables-nuts-estimate_100g  collagen-meat-protein-ratio_100g  cocoa_100g  chlorophyl_100g  carbon-footprint_100g  nutrition-score-fr_100g  nutrition-score-uk_100g  glycemic-index_100g  water-hardness_100g\n",
      "0   3087  http://world-en.openfoodfacts.org/product/0000000003087/farine-de-ble-noir-ferme-t-y-r-nao  openfoodfacts-contributors  1474103866  2016-09-17T09:17:46Z      1474103893   2016-09-17T09:18:13Z              Farine de blé noir          NaN      1kg       NaN            NaN  Ferme t'y R'nao  ferme-t-y-r-nao        NaN             NaN           NaN     NaN          NaN                  NaN                       NaN    NaN         NaN       NaN       NaN            NaN                      NaN    NaN         NaN             NaN    NaN     en:FR         en:france         France                                                                                                                                                                     NaN       NaN          NaN    NaN         NaN       NaN              NaN            NaN          NaN                                                                                                                                                                                                                                                                                                                                                                                                                                                                                                                                                                                                                                                                                     NaN            NaN          NaN                          NaN                        NaN                            NaN                                      NaN                                    NaN                                        NaN                 NaN                NaN           NaN           NaN                en:to-be-completed, en:nutrition-facts-to-be-completed, en:ingredients-to-be-completed, en:expiration-date-to-be-completed, en:characteristics-to-be-completed, en:categories-to-be-completed, en:brands-completed, en:packaging-to-be-completed, en:quantity-completed, en:product-name-completed, en:photos-to-be-validated, en:photos-uploaded                en:to-be-completed,en:nutrition-facts-to-be-completed,en:ingredients-to-be-completed,en:expiration-date-to-be-completed,en:characteristics-to-be-completed,en:categories-to-be-completed,en:brands-completed,en:packaging-to-be-completed,en:quantity-completed,en:product-name-completed,en:photos-to-be-validated,en:photos-uploaded                To be completed,Nutrition facts to be completed,Ingredients to be completed,Expiration date to be completed,Characteristics to be completed,Categories to be completed,Brands completed,Packaging to be completed,Quantity completed,Product name completed,Photos to be validated,Photos uploaded           NaN              NaN       NaN             NaN          NaN                   NaN       NaN                 NaN                 NaN                 NaN                  NaN                NaN                NaN                  NaN                  NaN                 NaN                   NaN                 NaN                    NaN                 NaN                  NaN                  NaN                       NaN                       NaN               NaN                         NaN                          NaN                         NaN               NaN                  NaN                     NaN                         NaN                                NaN               NaN               NaN                 NaN                 NaN              NaN                NaN                  NaN             NaN               NaN                 NaN          NaN            NaN            NaN             NaN            NaN            NaN                  NaN          NaN           NaN         NaN            NaN          NaN                  NaN               NaN        NaN          NaN           NaN             NaN                 NaN             NaN             NaN             NaN             NaN              NaN              NaN              NaN              NaN              NaN           NaN               NaN          NaN                    NaN          NaN               NaN             NaN            NaN           NaN              NaN        NaN             NaN        NaN          NaN             NaN            NaN            NaN            NaN              NaN          NaN            NaN           NaN      NaN                          NaN                                   NaN                               NaN         NaN              NaN                    NaN                      NaN                      NaN                  NaN                  NaN\n",
      "1   4530        http://world-en.openfoodfacts.org/product/0000000004530/banana-chips-sweetened-whole             usda-ndb-import  1489069957  2017-03-09T14:32:37Z      1489069957   2017-03-09T14:32:37Z  Banana Chips Sweetened (Whole)          NaN      NaN       NaN            NaN              NaN              NaN        NaN             NaN           NaN     NaN          NaN                  NaN                       NaN    NaN         NaN       NaN       NaN            NaN                      NaN    NaN         NaN             NaN    NaN        US  en:united-states  United States                                                                            Bananas, vegetable oil (coconut oil, corn oil and/or palm oil) sugar, natural banana flavor.       NaN          NaN    NaN         NaN       NaN     28 g (1 ONZ)            NaN          0.0                                                           [ bananas -> en:bananas  ]  [ vegetable-oil -> en:vegetable-oil  ]  [ oil -> en:oil  ]  [ coconut-oil -> en:coconut-oil  ]  [ oil -> en:oil  ]  [ corn-oil-and-or-palm-oil-sugar -> en:corn-oil-and-or-palm-oil-sugar  ]  [ oil-and-or-palm-oil-sugar -> en:oil-and-or-palm-oil-sugar  ]  [ and-or-palm-oil-sugar -> en:and-or-palm-oil-sugar  ]  [ or-palm-oil-sugar -> en:or-palm-oil-sugar  ]  [ palm-oil-sugar -> en:palm-oil-sugar  ]  [ oil-sugar -> en:oil-sugar  ]  [ sugar -> en:sugar  ]  [ natural-banana-flavor -> en:natural-banana-flavor  ]  [ banana-flavor -> en:banana-flavor  ]  [ flavor -> en:flavor  ]             NaN          NaN                          0.0                        NaN                            NaN                                      0.0                                    NaN                                        NaN                 NaN                  d           NaN           NaN  en:to-be-completed, en:nutrition-facts-completed, en:ingredients-completed, en:expiration-date-to-be-completed, en:packaging-code-to-be-completed, en:characteristics-to-be-completed, en:categories-to-be-completed, en:brands-to-be-completed, en:packaging-to-be-completed, en:quantity-to-be-completed, en:product-name-completed, en:photos-to-be-uploaded  en:to-be-completed,en:nutrition-facts-completed,en:ingredients-completed,en:expiration-date-to-be-completed,en:packaging-code-to-be-completed,en:characteristics-to-be-completed,en:categories-to-be-completed,en:brands-to-be-completed,en:packaging-to-be-completed,en:quantity-to-be-completed,en:product-name-completed,en:photos-to-be-uploaded  To be completed,Nutrition facts completed,Ingredients completed,Expiration date to be completed,Packaging-code-to-be-completed,Characteristics to be completed,Categories to be completed,Brands to be completed,Packaging to be completed,Quantity to be completed,Product name completed,Photos to be uploaded           NaN              NaN       NaN             NaN       2243.0                   NaN     28.57               28.57                 NaN                 NaN                  NaN                NaN                NaN                  NaN                  NaN                 NaN                   NaN                 NaN                    NaN                 NaN                  NaN                  NaN                       NaN                       NaN               NaN                         NaN                          NaN                         NaN               NaN                  NaN                     NaN                         NaN                                NaN               NaN               NaN                 NaN                 NaN              NaN                NaN                  NaN             0.0             0.018               64.29        14.29            NaN            NaN             NaN            NaN            NaN                  NaN          NaN           NaN         3.6           3.57          NaN                  NaN               NaN    0.00000        0.000           NaN             0.0                 NaN             NaN             NaN             NaN          0.0214              NaN              NaN              NaN              NaN              NaN           NaN               NaN          NaN                    NaN          NaN               NaN             NaN            NaN         0.000              NaN    0.00129             NaN        NaN          NaN             NaN            NaN            NaN            NaN              NaN          NaN            NaN           NaN      NaN                          NaN                                   NaN                               NaN         NaN              NaN                    NaN                     14.0                     14.0                  NaN                  NaN\n",
      "2   4559                http://world-en.openfoodfacts.org/product/0000000004559/peanuts-torn-glasser             usda-ndb-import  1489069957  2017-03-09T14:32:37Z      1489069957   2017-03-09T14:32:37Z                         Peanuts          NaN      NaN       NaN            NaN   Torn & Glasser     torn-glasser        NaN             NaN           NaN     NaN          NaN                  NaN                       NaN    NaN         NaN       NaN       NaN            NaN                      NaN    NaN         NaN             NaN    NaN        US  en:united-states  United States  Peanuts, wheat flour, sugar, rice flour, tapioca starch, salt, leavening (ammonium bicarbonate, baking soda), soy sauce (water, soybeans, wheat, salt), potato starch.       NaN          NaN    NaN         NaN       NaN  28 g (0.25 cup)            NaN          0.0   [ peanuts -> en:peanuts  ]  [ wheat-flour -> en:wheat-flour  ]  [ flour -> en:flour  ]  [ sugar -> en:sugar  ]  [ rice-flour -> en:rice-flour  ]  [ flour -> en:flour  ]  [ tapioca-starch -> en:tapioca-starch  ]  [ starch -> en:starch  ]  [ salt -> en:salt  ]  [ leavening -> en:leavening  ]  [ ammonium-bicarbonate -> en:ammonium-bicarbonate  ]  [ bicarbonate -> en:bicarbonate  ]  [ baking-soda -> en:baking-soda  ]  [ soda -> en:soda  ]  [ soy-sauce -> en:soy-sauce  ]  [ sauce -> en:sauce  ]  [ water -> en:water  ]  [ soybeans -> en:soybeans  ]  [ wheat -> en:wheat  ]  [ salt -> en:salt  ]  [ potato-starch -> en:potato-starch  ]  [ starch -> en:starch  ]             NaN          NaN                          0.0                        NaN                            NaN                                      0.0                                    NaN                                        NaN                 NaN                  b           NaN           NaN        en:to-be-completed, en:nutrition-facts-completed, en:ingredients-completed, en:expiration-date-to-be-completed, en:packaging-code-to-be-completed, en:characteristics-to-be-completed, en:categories-to-be-completed, en:brands-completed, en:packaging-to-be-completed, en:quantity-to-be-completed, en:product-name-completed, en:photos-to-be-uploaded        en:to-be-completed,en:nutrition-facts-completed,en:ingredients-completed,en:expiration-date-to-be-completed,en:packaging-code-to-be-completed,en:characteristics-to-be-completed,en:categories-to-be-completed,en:brands-completed,en:packaging-to-be-completed,en:quantity-to-be-completed,en:product-name-completed,en:photos-to-be-uploaded        To be completed,Nutrition facts completed,Ingredients completed,Expiration date to be completed,Packaging-code-to-be-completed,Characteristics to be completed,Categories to be completed,Brands completed,Packaging to be completed,Quantity to be completed,Product name completed,Photos to be uploaded           NaN              NaN       NaN             NaN       1941.0                   NaN     17.86                0.00                 NaN                 NaN                  NaN                NaN                NaN                  NaN                  NaN                 NaN                   NaN                 NaN                    NaN                 NaN                  NaN                  NaN                       NaN                       NaN               NaN                         NaN                          NaN                         NaN               NaN                  NaN                     NaN                         NaN                                NaN               NaN               NaN                 NaN                 NaN              NaN                NaN                  NaN             0.0             0.000               60.71        17.86            NaN            NaN             NaN            NaN            NaN                  NaN          NaN           NaN         7.1          17.86          NaN                  NaN               NaN    0.63500        0.250           NaN             0.0                 NaN             NaN             NaN             NaN          0.0000              NaN              NaN              NaN              NaN              NaN           NaN               NaN          NaN                    NaN          NaN               NaN             NaN            NaN         0.071              NaN    0.00129             NaN        NaN          NaN             NaN            NaN            NaN            NaN              NaN          NaN            NaN           NaN      NaN                          NaN                                   NaN                               NaN         NaN              NaN                    NaN                      0.0                      0.0                  NaN                  NaN\n",
      "3  16087    http://world-en.openfoodfacts.org/product/0000000016087/organic-salted-nut-mix-grizzlies             usda-ndb-import  1489055731  2017-03-09T10:35:31Z      1489055731   2017-03-09T10:35:31Z          Organic Salted Nut Mix          NaN      NaN       NaN            NaN        Grizzlies        grizzlies        NaN             NaN           NaN     NaN          NaN                  NaN                       NaN    NaN         NaN       NaN       NaN            NaN                      NaN    NaN         NaN             NaN    NaN        US  en:united-states  United States                                                                           Organic hazelnuts, organic cashews, organic walnuts almonds, organic sunflower oil, sea salt.       NaN          NaN    NaN         NaN       NaN  28 g (0.25 cup)            NaN          0.0                                                                                                                                                                                                                     [ organic-hazelnuts -> en:organic-hazelnuts  ]  [ hazelnuts -> en:hazelnuts  ]  [ organic-cashews -> en:organic-cashews  ]  [ cashews -> en:cashews  ]  [ organic-walnuts-almonds -> en:organic-walnuts-almonds  ]  [ walnuts-almonds -> en:walnuts-almonds  ]  [ almonds -> en:almonds  ]  [ organic-sunflower-oil -> en:organic-sunflower-oil  ]  [ sunflower-oil -> en:sunflower-oil  ]  [ oil -> en:oil  ]  [ sea-salt -> en:sea-salt  ]  [ salt -> en:salt  ]             NaN          NaN                          0.0                        NaN                            NaN                                      0.0                                    NaN                                        NaN                 NaN                  d           NaN           NaN        en:to-be-completed, en:nutrition-facts-completed, en:ingredients-completed, en:expiration-date-to-be-completed, en:packaging-code-to-be-completed, en:characteristics-to-be-completed, en:categories-to-be-completed, en:brands-completed, en:packaging-to-be-completed, en:quantity-to-be-completed, en:product-name-completed, en:photos-to-be-uploaded        en:to-be-completed,en:nutrition-facts-completed,en:ingredients-completed,en:expiration-date-to-be-completed,en:packaging-code-to-be-completed,en:characteristics-to-be-completed,en:categories-to-be-completed,en:brands-completed,en:packaging-to-be-completed,en:quantity-to-be-completed,en:product-name-completed,en:photos-to-be-uploaded        To be completed,Nutrition facts completed,Ingredients completed,Expiration date to be completed,Packaging-code-to-be-completed,Characteristics to be completed,Categories to be completed,Brands completed,Packaging to be completed,Quantity to be completed,Product name completed,Photos to be uploaded           NaN              NaN       NaN             NaN       2540.0                   NaN     57.14                5.36                 NaN                 NaN                  NaN                NaN                NaN                  NaN                  NaN                 NaN                   NaN                 NaN                    NaN                 NaN                  NaN                  NaN                       NaN                       NaN               NaN                         NaN                          NaN                         NaN               NaN                  NaN                     NaN                         NaN                                NaN               NaN               NaN                 NaN                 NaN              NaN                NaN                  NaN             NaN               NaN               17.86         3.57            NaN            NaN             NaN            NaN            NaN                  NaN          NaN           NaN         7.1          17.86          NaN                  NaN               NaN    1.22428        0.482           NaN             NaN                 NaN             NaN             NaN             NaN             NaN              NaN              NaN              NaN              NaN              NaN           NaN               NaN          NaN                    NaN          NaN               NaN             NaN            NaN         0.143              NaN    0.00514             NaN        NaN          NaN             NaN            NaN            NaN            NaN              NaN          NaN            NaN           NaN      NaN                          NaN                                   NaN                               NaN         NaN              NaN                    NaN                     12.0                     12.0                  NaN                  NaN\n",
      "4  16094      http://world-en.openfoodfacts.org/product/0000000016094/organic-polenta-bob-s-red-mill             usda-ndb-import  1489055653  2017-03-09T10:34:13Z      1489055653   2017-03-09T10:34:13Z                 Organic Polenta          NaN      NaN       NaN            NaN   Bob's Red Mill   bob-s-red-mill        NaN             NaN           NaN     NaN          NaN                  NaN                       NaN    NaN         NaN       NaN       NaN            NaN                      NaN    NaN         NaN             NaN    NaN        US  en:united-states  United States                                                                                                                                                         Organic polenta       NaN          NaN    NaN         NaN       NaN  35 g (0.25 cup)            NaN          0.0                                                                                                                                                                                                                                                                                                                                                                                                                                                                                                                                                                                                                 [ organic-polenta -> en:organic-polenta  ]  [ polenta -> en:polenta  ]             NaN          NaN                          0.0                        NaN                            NaN                                      0.0                                    NaN                                        NaN                 NaN                NaN           NaN           NaN        en:to-be-completed, en:nutrition-facts-completed, en:ingredients-completed, en:expiration-date-to-be-completed, en:packaging-code-to-be-completed, en:characteristics-to-be-completed, en:categories-to-be-completed, en:brands-completed, en:packaging-to-be-completed, en:quantity-to-be-completed, en:product-name-completed, en:photos-to-be-uploaded        en:to-be-completed,en:nutrition-facts-completed,en:ingredients-completed,en:expiration-date-to-be-completed,en:packaging-code-to-be-completed,en:characteristics-to-be-completed,en:categories-to-be-completed,en:brands-completed,en:packaging-to-be-completed,en:quantity-to-be-completed,en:product-name-completed,en:photos-to-be-uploaded        To be completed,Nutrition facts completed,Ingredients completed,Expiration date to be completed,Packaging-code-to-be-completed,Characteristics to be completed,Categories to be completed,Brands completed,Packaging to be completed,Quantity to be completed,Product name completed,Photos to be uploaded           NaN              NaN       NaN             NaN       1552.0                   NaN      1.43                 NaN                 NaN                 NaN                  NaN                NaN                NaN                  NaN                  NaN                 NaN                   NaN                 NaN                    NaN                 NaN                  NaN                  NaN                       NaN                       NaN               NaN                         NaN                          NaN                         NaN               NaN                  NaN                     NaN                         NaN                                NaN               NaN               NaN                 NaN                 NaN              NaN                NaN                  NaN             NaN               NaN               77.14          NaN            NaN            NaN             NaN            NaN            NaN                  NaN          NaN           NaN         5.7           8.57          NaN                  NaN               NaN        NaN          NaN           NaN             NaN                 NaN             NaN             NaN             NaN             NaN              NaN              NaN              NaN              NaN              NaN           NaN               NaN          NaN                    NaN          NaN               NaN             NaN            NaN           NaN              NaN        NaN             NaN        NaN          NaN             NaN            NaN            NaN            NaN              NaN          NaN            NaN           NaN      NaN                          NaN                                   NaN                               NaN         NaN              NaN                    NaN                      NaN                      NaN                  NaN                  NaN\n"
     ]
    }
   ],
   "source": [
    "print(food.head().to_string())"
   ]
  },
  {
   "cell_type": "markdown",
   "metadata": {},
   "source": [
    "### Step 5. What is the number of observations in the dataset?"
   ]
  },
  {
   "cell_type": "code",
   "execution_count": 4,
   "metadata": {
    "collapsed": true
   },
   "outputs": [
    {
     "name": "stdout",
     "output_type": "stream",
     "text": [
      "356027\n"
     ]
    }
   ],
   "source": [
    "print(food.shape[0])"
   ]
  },
  {
   "cell_type": "markdown",
   "metadata": {},
   "source": [
    "### Step 6. What is the number of columns in the dataset?"
   ]
  },
  {
   "cell_type": "code",
   "execution_count": 5,
   "metadata": {
    "collapsed": true
   },
   "outputs": [
    {
     "name": "stdout",
     "output_type": "stream",
     "text": [
      "163\n"
     ]
    }
   ],
   "source": [
    "print(food.shape[1])"
   ]
  },
  {
   "cell_type": "markdown",
   "metadata": {},
   "source": [
    "### Step 7. Print the name of all the columns."
   ]
  },
  {
   "cell_type": "code",
   "execution_count": 6,
   "metadata": {
    "collapsed": true
   },
   "outputs": [
    {
     "data": {
      "text/plain": [
       "Index(['code', 'url', 'creator', 'created_t', 'created_datetime',\n",
       "       'last_modified_t', 'last_modified_datetime', 'product_name',\n",
       "       'generic_name', 'quantity',\n",
       "       ...\n",
       "       'fruits-vegetables-nuts_100g', 'fruits-vegetables-nuts-estimate_100g',\n",
       "       'collagen-meat-protein-ratio_100g', 'cocoa_100g', 'chlorophyl_100g',\n",
       "       'carbon-footprint_100g', 'nutrition-score-fr_100g',\n",
       "       'nutrition-score-uk_100g', 'glycemic-index_100g',\n",
       "       'water-hardness_100g'],\n",
       "      dtype='object', length=163)"
      ]
     },
     "execution_count": 6,
     "metadata": {},
     "output_type": "execute_result"
    }
   ],
   "source": [
    "food.columns"
   ]
  },
  {
   "cell_type": "markdown",
   "metadata": {},
   "source": [
    "### Step 8. What is the name of 105th column?"
   ]
  },
  {
   "cell_type": "code",
   "execution_count": 7,
   "metadata": {
    "collapsed": true
   },
   "outputs": [
    {
     "data": {
      "text/plain": [
       "'-glucose_100g'"
      ]
     },
     "execution_count": 7,
     "metadata": {},
     "output_type": "execute_result"
    }
   ],
   "source": [
    "food.columns[104]"
   ]
  },
  {
   "cell_type": "markdown",
   "metadata": {},
   "source": [
    "### Step 9. What is the type of the observations of the 105th column?"
   ]
  },
  {
   "cell_type": "code",
   "execution_count": 10,
   "metadata": {
    "collapsed": true
   },
   "outputs": [
    {
     "name": "stdout",
     "output_type": "stream",
     "text": [
      "float64\n"
     ]
    }
   ],
   "source": [
    "print(food['-glucose_100g'].dtypes)"
   ]
  },
  {
   "cell_type": "markdown",
   "metadata": {},
   "source": [
    "### Step 10. How is the dataset indexed?"
   ]
  },
  {
   "cell_type": "code",
   "execution_count": 11,
   "metadata": {
    "collapsed": true
   },
   "outputs": [
    {
     "data": {
      "text/plain": [
       "RangeIndex(start=0, stop=356027, step=1)"
      ]
     },
     "execution_count": 11,
     "metadata": {},
     "output_type": "execute_result"
    }
   ],
   "source": [
    "food.index"
   ]
  },
  {
   "cell_type": "markdown",
   "metadata": {},
   "source": [
    "### Step 11. What is the product name of the 19th observation?"
   ]
  },
  {
   "cell_type": "code",
   "execution_count": 13,
   "metadata": {
    "collapsed": true
   },
   "outputs": [
    {
     "data": {
      "text/plain": [
       "'Organic Oat Groats'"
      ]
     },
     "execution_count": 13,
     "metadata": {},
     "output_type": "execute_result"
    }
   ],
   "source": [
    "food.iloc[19]['product_name']"
   ]
  }
 ],
 "metadata": {
  "anaconda-cloud": {},
  "kernelspec": {
   "display_name": "3.11.9",
   "language": "python",
   "name": "python3"
  },
  "language_info": {
   "codemirror_mode": {
    "name": "ipython",
    "version": 3
   },
   "file_extension": ".py",
   "mimetype": "text/x-python",
   "name": "python",
   "nbconvert_exporter": "python",
   "pygments_lexer": "ipython3",
   "version": "3.11.9"
  }
 },
 "nbformat": 4,
 "nbformat_minor": 0
}
